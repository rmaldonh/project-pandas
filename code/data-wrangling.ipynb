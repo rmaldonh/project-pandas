{
 "cells": [
  {
   "cell_type": "code",
   "execution_count": 1,
   "metadata": {},
   "outputs": [],
   "source": [
    "import pandas as pd\n",
    "import numpy as np\n",
    "import re\n",
    "from datetime import datetime, timedelta"
   ]
  },
  {
   "cell_type": "code",
   "execution_count": 2,
   "metadata": {},
   "outputs": [
    {
     "name": "stdout",
     "output_type": "stream",
     "text": [
      "<class 'pandas.core.frame.DataFrame'>\n",
      "RangeIndex: 25723 entries, 0 to 25722\n",
      "Data columns (total 24 columns):\n",
      " #   Column                  Non-Null Count  Dtype  \n",
      "---  ------                  --------------  -----  \n",
      " 0   Case Number             8702 non-null   object \n",
      " 1   Date                    6302 non-null   object \n",
      " 2   Year                    6300 non-null   float64\n",
      " 3   Type                    6298 non-null   object \n",
      " 4   Country                 6252 non-null   object \n",
      " 5   Area                    5847 non-null   object \n",
      " 6   Location                5762 non-null   object \n",
      " 7   Activity                5758 non-null   object \n",
      " 8   Name                    6092 non-null   object \n",
      " 9   Sex                     5737 non-null   object \n",
      " 10  Age                     3471 non-null   object \n",
      " 11  Injury                  6274 non-null   object \n",
      " 12  Fatal (Y/N)             5763 non-null   object \n",
      " 13  Time                    2948 non-null   object \n",
      " 14  Species                 3464 non-null   object \n",
      " 15  Investigator or Source  6285 non-null   object \n",
      " 16  pdf                     6302 non-null   object \n",
      " 17  href formula            6301 non-null   object \n",
      " 18  href                    6302 non-null   object \n",
      " 19  Case Number.1           6302 non-null   object \n",
      " 20  Case Number.2           6302 non-null   object \n",
      " 21  original order          6309 non-null   float64\n",
      " 22  Unnamed: 22             1 non-null      object \n",
      " 23  Unnamed: 23             2 non-null      object \n",
      "dtypes: float64(2), object(22)\n",
      "memory usage: 4.7+ MB\n"
     ]
    }
   ],
   "source": [
    "# Carga información y se obtiene la info de columnas y número de registros totales\n",
    "shark = pd.read_csv('../csv/attacks.csv', encoding='latin-1')\n",
    "shark.info()"
   ]
  },
  {
   "cell_type": "code",
   "execution_count": 3,
   "metadata": {},
   "outputs": [
    {
     "data": {
      "text/plain": [
       "Index(['Case Number', 'Date', 'Year', 'Type', 'Country', 'Area', 'Location',\n",
       "       'Activity', 'Name', 'Sex ', 'Age', 'Injury', 'Fatal (Y/N)', 'Time',\n",
       "       'Species ', 'Investigator or Source', 'pdf', 'href formula', 'href',\n",
       "       'Case Number.1', 'Case Number.2', 'original order', 'Unnamed: 22',\n",
       "       'Unnamed: 23'],\n",
       "      dtype='object')"
      ]
     },
     "execution_count": 3,
     "metadata": {},
     "output_type": "execute_result"
    }
   ],
   "source": [
    "shark.columns"
   ]
  },
  {
   "cell_type": "code",
   "execution_count": 4,
   "metadata": {},
   "outputs": [
    {
     "data": {
      "text/plain": [
       "(25723, 24)"
      ]
     },
     "execution_count": 4,
     "metadata": {},
     "output_type": "execute_result"
    }
   ],
   "source": [
    "shark.shape"
   ]
  },
  {
   "cell_type": "code",
   "execution_count": 5,
   "metadata": {},
   "outputs": [
    {
     "data": {
      "text/plain": [
       "(8703, 24)"
      ]
     },
     "execution_count": 5,
     "metadata": {},
     "output_type": "execute_result"
    }
   ],
   "source": [
    "# Eliminar todos los registros que tengan valores nulos en todas sus columnas\n",
    "shark.dropna(how='all', inplace = True)\n",
    "shark.shape"
   ]
  },
  {
   "cell_type": "code",
   "execution_count": 6,
   "metadata": {},
   "outputs": [],
   "source": [
    "# Se eliminan las columnas que no tienen información\n",
    "shark.drop(['href formula','Case Number.1', 'Case Number.2','Unnamed: 22','Unnamed: 23'],axis=1, inplace = True)"
   ]
  },
  {
   "cell_type": "code",
   "execution_count": 7,
   "metadata": {},
   "outputs": [],
   "source": [
    "# Nombres originales\n",
    "old_columns_names = shark.columns"
   ]
  },
  {
   "cell_type": "code",
   "execution_count": 8,
   "metadata": {},
   "outputs": [
    {
     "data": {
      "text/plain": [
       "['Case_Number',\n",
       " 'Date',\n",
       " 'Year',\n",
       " 'Type',\n",
       " 'Country',\n",
       " 'Area',\n",
       " 'Location',\n",
       " 'Activity',\n",
       " 'Name',\n",
       " 'Sex',\n",
       " 'Age',\n",
       " 'Injury',\n",
       " 'Fatal_YN',\n",
       " 'Time',\n",
       " 'Species',\n",
       " 'Investigator_or_Source',\n",
       " 'pdf',\n",
       " 'href',\n",
       " 'original_order']"
      ]
     },
     "execution_count": 8,
     "metadata": {},
     "output_type": "execute_result"
    }
   ],
   "source": [
    "# Nombres_nuevos\n",
    "new_columns_names = [re.sub(r'\\s|\\.','_',name.strip()) for name in old_columns_names]\n",
    "new_columns_names = [re.sub(r'\\(|\\)|\\/','',name.strip()) for name in new_columns_names]\n",
    "new_columns_names"
   ]
  },
  {
   "cell_type": "code",
   "execution_count": 9,
   "metadata": {},
   "outputs": [
    {
     "data": {
      "text/plain": [
       "{'Case Number': 'Case_Number',\n",
       " 'Date': 'Date',\n",
       " 'Year': 'Year',\n",
       " 'Type': 'Type',\n",
       " 'Country': 'Country',\n",
       " 'Area': 'Area',\n",
       " 'Location': 'Location',\n",
       " 'Activity': 'Activity',\n",
       " 'Name': 'Name',\n",
       " 'Sex ': 'Sex',\n",
       " 'Age': 'Age',\n",
       " 'Injury': 'Injury',\n",
       " 'Fatal (Y/N)': 'Fatal_YN',\n",
       " 'Time': 'Time',\n",
       " 'Species ': 'Species',\n",
       " 'Investigator or Source': 'Investigator_or_Source',\n",
       " 'pdf': 'pdf',\n",
       " 'href': 'href',\n",
       " 'original order': 'original_order'}"
      ]
     },
     "execution_count": 9,
     "metadata": {},
     "output_type": "execute_result"
    }
   ],
   "source": [
    "rename_names = dict(zip(old_columns_names, new_columns_names))\n",
    "rename_names"
   ]
  },
  {
   "cell_type": "code",
   "execution_count": 10,
   "metadata": {},
   "outputs": [
    {
     "data": {
      "text/plain": [
       "Index(['Case_Number', 'Date', 'Year', 'Type', 'Country', 'Area', 'Location',\n",
       "       'Activity', 'Name', 'Sex', 'Age', 'Injury', 'Fatal_YN', 'Time',\n",
       "       'Species', 'Investigator_or_Source', 'pdf', 'href', 'original_order'],\n",
       "      dtype='object')"
      ]
     },
     "execution_count": 10,
     "metadata": {},
     "output_type": "execute_result"
    }
   ],
   "source": [
    "shark.rename(columns=rename_names, inplace = True)\n",
    "shark.columns"
   ]
  },
  {
   "cell_type": "code",
   "execution_count": 11,
   "metadata": {},
   "outputs": [],
   "source": [
    "index_to_clean = shark[(shark['Case_Number'] == '0') | (shark['Case_Number'] == 'xx')].index\n",
    "len(index_to_clean)\n",
    "shark.drop(index_to_clean, inplace=True)"
   ]
  },
  {
   "cell_type": "code",
   "execution_count": 12,
   "metadata": {},
   "outputs": [],
   "source": [
    "# Para evitar los NAN\n",
    "shark.Type = shark.Type.fillna('Unspecified')\n",
    "shark.Country = shark.Country.fillna('').str.upper()"
   ]
  },
  {
   "cell_type": "code",
   "execution_count": 13,
   "metadata": {},
   "outputs": [],
   "source": [
    "# Reemplaza caracteres especiales del país\n",
    "shark.Country = shark.Country.str.replace('/','').replace('?','')\n",
    "shark.Country = shark.Country.str.replace('?','')\n",
    "shark.Injury  = shark.Injury.str.lower() "
   ]
  },
  {
   "cell_type": "code",
   "execution_count": 14,
   "metadata": {},
   "outputs": [],
   "source": [
    "# Limpiando la columna Sex\n",
    "shark.Sex = shark.Sex.str.strip()\n",
    "shark.Sex = shark.Sex.str.replace('.','').replace('lli','').fillna('')"
   ]
  },
  {
   "cell_type": "code",
   "execution_count": 15,
   "metadata": {},
   "outputs": [],
   "source": [
    "# Convirtiendo a numero entero\n",
    "shark.Year= shark.Year.fillna(0).astype('int')\n",
    "shark.original_order = shark.original_order.astype('int')"
   ]
  },
  {
   "cell_type": "code",
   "execution_count": 16,
   "metadata": {},
   "outputs": [],
   "source": [
    "def get_date(fecha):\n",
    "    \n",
    "    if pd.isnull(fecha):\n",
    "        fecha = '0001'\n",
    "\n",
    "    if len(fecha.strip()) >= 10:\n",
    "        # buscar año, mes, día\n",
    "        anio = fecha[:4]\n",
    "        if fecha[5:7] != '00':\n",
    "            mes  = fecha[5:7]\n",
    "        else:\n",
    "            mes  = '01'\n",
    "        if fecha[8:10] != '00':\n",
    "            dia  = fecha[8:10]\n",
    "        else:\n",
    "            dia  = '01'\n",
    "            \n",
    "        fecha_clean = dia + '/'+ mes +'/'+ anio\n",
    "        \n",
    "    else:\n",
    "        anio = re.findall(r'\\d{4}',fecha)[0]\n",
    "        mes  = '01'\n",
    "        dia  = '01'\n",
    "        fecha_clean = dia + '/'+ mes +'/'+ anio\n",
    "    \n",
    "    return fecha_clean"
   ]
  },
  {
   "cell_type": "code",
   "execution_count": 17,
   "metadata": {},
   "outputs": [],
   "source": [
    "# Arregla la fecha \n",
    "shark['Date'] = shark['Case_Number'].map(get_date)"
   ]
  },
  {
   "cell_type": "code",
   "execution_count": 18,
   "metadata": {},
   "outputs": [],
   "source": [
    "def get_age(age):\n",
    "    if pd.isnull(age):\n",
    "        ages = '0'\n",
    "    elif age.find('month') > 0:\n",
    "        ages = re.findall(r'\\d+',age)\n",
    "        age_b = []\n",
    "        for a in ages:\n",
    "            age_b.append(str(int(a)/12))\n",
    "            \n",
    "        ages = age_b\n",
    "    else:\n",
    "        ages = re.findall(r'\\d+',age)\n",
    "    \n",
    "    if len(ages) > 0:\n",
    "        return \",\".join(ages)\n",
    "    else:\n",
    "        return '0'\n",
    "    "
   ]
  },
  {
   "cell_type": "code",
   "execution_count": 19,
   "metadata": {},
   "outputs": [],
   "source": [
    "# Arreglar la columna edad\n",
    "shark['Age'] = shark['Age'].map(get_age)"
   ]
  },
  {
   "cell_type": "code",
   "execution_count": 20,
   "metadata": {},
   "outputs": [],
   "source": [
    "null_columns = shark.columns[shark.isnull().any()]\n",
    "null_columns\n",
    "\n",
    "for col in null_columns:\n",
    "    shark[col] = shark[col].fillna('')\n"
   ]
  },
  {
   "cell_type": "code",
   "execution_count": 21,
   "metadata": {},
   "outputs": [],
   "source": [
    "def get_time(time):\n",
    "    if pd.isnull(time):\n",
    "        time_clean = '00:00'\n",
    "    else:\n",
    "        time_list = re.findall(r'\\d+',time)\n",
    "        if len(time_list) > 1:\n",
    "            time_clean = time_list[0] + ':' + time_list[1]\n",
    "        elif len(time_list) == 0:\n",
    "            time_clean = '00:00'\n",
    "        elif len(time_list) == 1:\n",
    "            if len(time_list[0]) == 4:\n",
    "                time_clean = time_list[0][0:2] + ':' + time_list[0][2:4]\n",
    "            else:\n",
    "                time_clean = time_list[0] + ':00'\n",
    "            \n",
    "            \n",
    "    return time_clean\n",
    "    "
   ]
  },
  {
   "cell_type": "code",
   "execution_count": 22,
   "metadata": {},
   "outputs": [],
   "source": [
    "shark['Time'] = shark['Time'].map(get_time)"
   ]
  },
  {
   "cell_type": "code",
   "execution_count": 23,
   "metadata": {},
   "outputs": [],
   "source": [
    "shark.to_csv('../csv/attacks_clean.csv', index = False)"
   ]
  },
  {
   "cell_type": "code",
   "execution_count": null,
   "metadata": {},
   "outputs": [],
   "source": []
  },
  {
   "cell_type": "code",
   "execution_count": null,
   "metadata": {},
   "outputs": [],
   "source": []
  },
  {
   "cell_type": "code",
   "execution_count": null,
   "metadata": {},
   "outputs": [],
   "source": []
  },
  {
   "cell_type": "code",
   "execution_count": null,
   "metadata": {},
   "outputs": [],
   "source": []
  },
  {
   "cell_type": "code",
   "execution_count": null,
   "metadata": {},
   "outputs": [],
   "source": []
  },
  {
   "cell_type": "code",
   "execution_count": null,
   "metadata": {},
   "outputs": [],
   "source": []
  },
  {
   "cell_type": "code",
   "execution_count": null,
   "metadata": {},
   "outputs": [],
   "source": []
  },
  {
   "cell_type": "code",
   "execution_count": null,
   "metadata": {},
   "outputs": [],
   "source": []
  },
  {
   "cell_type": "code",
   "execution_count": null,
   "metadata": {},
   "outputs": [],
   "source": []
  }
 ],
 "metadata": {
  "kernelspec": {
   "display_name": "Python 3",
   "language": "python",
   "name": "python3"
  },
  "language_info": {
   "codemirror_mode": {
    "name": "ipython",
    "version": 3
   },
   "file_extension": ".py",
   "mimetype": "text/x-python",
   "name": "python",
   "nbconvert_exporter": "python",
   "pygments_lexer": "ipython3",
   "version": "3.8.5"
  }
 },
 "nbformat": 4,
 "nbformat_minor": 4
}
